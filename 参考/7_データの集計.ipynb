{
  "cells": [
    {
      "cell_type": "markdown",
      "metadata": {
        "id": "view-in-github",
        "colab_type": "text"
      },
      "source": [
        "<a href=\"https://colab.research.google.com/github/1900690/Agro-Meteorological-Grid-Square-Data/blob/main/%E5%8F%82%E8%80%83/7_%E3%83%87%E3%83%BC%E3%82%BF%E3%81%AE%E9%9B%86%E8%A8%88.ipynb\" target=\"_parent\"><img src=\"https://colab.research.google.com/assets/colab-badge.svg\" alt=\"Open In Colab\"/></a>"
      ]
    },
    {
      "cell_type": "markdown",
      "id": "4ce8b5ce-905e-4bcc-86e6-834393b9ae2b",
      "metadata": {
        "id": "4ce8b5ce-905e-4bcc-86e6-834393b9ae2b"
      },
      "source": [
        "農研機構メッシュ農業気象データシステム(AMGSDS) 　ドキュメント<br>\n",
        "チュートリアル　７ データの集計"
      ]
    },
    {
      "cell_type": "markdown",
      "id": "47f97b24-e76b-4c0c-9e26-6dcba8fc9cae",
      "metadata": {
        "id": "47f97b24-e76b-4c0c-9e26-6dcba8fc9cae"
      },
      "source": [
        "# データの集計\n",
        "　メッシュ農業気象データから月別値や年別値を得る方法を学びます。\n",
        "\n",
        "　まず、以下のセルを実行し、このチュートリアルで使用するライブラリを読み込んでください。<br>\n",
        "（実行後は、左端の青太線をクリックして畳んでおいてください）\n",
        "* 図で日本語を使用したい場合は、**AMD_Tools4.pyの89-90行目**のコメントアウトを外して有効にしてください。その際、コメントをよく読みOSの違いにご注意ください。"
      ]
    },
    {
      "cell_type": "code",
      "execution_count": null,
      "id": "214816c4-fd7b-4172-8385-8bebc00c0f1a",
      "metadata": {
        "jupyter": {
          "source_hidden": true
        },
        "id": "214816c4-fd7b-4172-8385-8bebc00c0f1a"
      },
      "outputs": [],
      "source": [
        "# このチュートリアルで使用するライブラリ\n",
        "# ライブラリ（メッシュデータ処理のために必要）\n",
        "#from datetime import datetime, timedelta\n",
        "import numpy as np\n",
        "import pandas as pd\n",
        "import xarray as xr\n",
        "import AMD_Tools4 as amd"
      ]
    },
    {
      "cell_type": "markdown",
      "id": "48f917f0-1944-48af-9a39-55754770206b",
      "metadata": {
        "jp-MarkdownHeadingCollapsed": true,
        "id": "48f917f0-1944-48af-9a39-55754770206b"
      },
      "source": [
        "## 1 平均値、合計値の分布図\n",
        "　関数GetMetDataはメッシュ農業気象データを3次元の配列で返します。漠然と「配列」と書きましたが、正確にはライブラリ Numpy が提供する ndarray というオブジェクトです。一般に、オブジェクトには、多くの場合、メソッドとよばれる計算機能が付随していて、そのオブジェクトならではの処理ができるようになっています。\n",
        "　ndarray オブジェクトは数字の配列を一まとめに扱うオブジェクトですから、「ならでは」の関数として、合計や平均を計算するメソッド、sum や mean が用意されており、メッシュデータの合計や平均が簡単に計算できます。<br>\n",
        " https://numpy.org/doc/stable/reference/generated/numpy.sum.html <br>\n",
        " https://numpy.org/doc/stable/reference/generated/numpy.mean.html"
      ]
    },
    {
      "cell_type": "markdown",
      "id": "7889e8f4-0b38-49ca-b2cf-26591b020f21",
      "metadata": {
        "id": "7889e8f4-0b38-49ca-b2cf-26591b020f21"
      },
      "source": [
        "　平均値や合計値の分布を求める例を、以下に二つ示します。"
      ]
    },
    {
      "cell_type": "markdown",
      "id": "5a8650aa-57bf-4c1b-84b4-b05b00ccf8d5",
      "metadata": {
        "id": "5a8650aa-57bf-4c1b-84b4-b05b00ccf8d5"
      },
      "source": [
        "#### 例１\n",
        "2023年9月の全天日射量分布図を作成する。"
      ]
    },
    {
      "cell_type": "markdown",
      "id": "ddbf0c4e-9084-4f29-83bd-a82b49f415b9",
      "metadata": {
        "id": "ddbf0c4e-9084-4f29-83bd-a82b49f415b9"
      },
      "source": [
        "まず、この期間の日別全天日射量データを取得します。"
      ]
    },
    {
      "cell_type": "code",
      "execution_count": null,
      "id": "3d072196-f889-4319-8e15-da5d0a31f050",
      "metadata": {
        "id": "3d072196-f889-4319-8e15-da5d0a31f050"
      },
      "outputs": [],
      "source": [
        "# 気象データの取得\n",
        "nani = 'GSR'                          # 全天日射量\n",
        "itsu = [ \"2023-09-01\", \"2023-09-30\" ] # 期間\n",
        "doko = [ 34.666, 35.333, 136.000, 137.000]   #領域　愛知県周辺\n",
        "data, tim, lat, lon = amd.GetMetData(nani, itsu, doko )"
      ]
    },
    {
      "cell_type": "markdown",
      "id": "e925525a-8cf0-4a2e-be5a-7d1b830c6071",
      "metadata": {
        "id": "e925525a-8cf0-4a2e-be5a-7d1b830c6071"
      },
      "source": [
        "　気象データは、時間方向に30座標、緯度方向に80座標、経度方向に80座標の配列です。求めるのは、これら全部を足し合わせた答えではなく、それぞれのメッシュにおける時間についての合計なので、下のとおり、メソッドに引数 **axis=0** を与えます。メッシュ農業気象データは、時間(日付)、緯度、経度の順序で配列化されているので、集計を時間方向に限定する場合、最初（ゼロ番目）の次元という意味で0を指定します。"
      ]
    },
    {
      "cell_type": "code",
      "execution_count": null,
      "id": "4179a7e9-6451-4fe7-849b-cf459dd650bd",
      "metadata": {
        "id": "4179a7e9-6451-4fe7-849b-cf459dd650bd"
      },
      "outputs": [],
      "source": [
        "# 日付方向の合計\n",
        "SdSept = data.sum(axis=0)"
      ]
    },
    {
      "cell_type": "code",
      "execution_count": null,
      "id": "6bd64a01-478e-45f2-a45b-37ae88d2dcff",
      "metadata": {
        "id": "6bd64a01-478e-45f2-a45b-37ae88d2dcff"
      },
      "outputs": [],
      "source": [
        "# 分布図の描画\n",
        "amd.mapfig(SdSept,lat,lon,\n",
        "       figtitle='Global solar radiation in Sep. 2023 [MJ/m2]')"
      ]
    },
    {
      "cell_type": "markdown",
      "id": "1f063de2-ab06-4bdc-be58-05e86f0c0432",
      "metadata": {
        "id": "1f063de2-ab06-4bdc-be58-05e86f0c0432"
      },
      "source": [
        "#### 例２\n",
        "　2023年の1月から12月までの月平均気温分布図を作成する。"
      ]
    },
    {
      "cell_type": "markdown",
      "id": "0eae9b21-516f-4fdc-a003-bbb2a6ea712a",
      "metadata": {
        "id": "0eae9b21-516f-4fdc-a003-bbb2a6ea712a"
      },
      "source": [
        "　このような図は、_例１_ を for ループの中に入れて12回まわせば得ることができますが、１年分の気象データを全部取得し、その中から特定の月に属するデータだけを取り出して平均を取る方法で分布図を作成してみましょう。インデックスや時刻の取り扱をよく理解してください。\n",
        "\n",
        "　まず気象データを取得します。"
      ]
    },
    {
      "cell_type": "code",
      "execution_count": null,
      "id": "d618a65a-4710-41c8-b642-a4a3539ed8ad",
      "metadata": {
        "id": "d618a65a-4710-41c8-b642-a4a3539ed8ad"
      },
      "outputs": [],
      "source": [
        "# 気象データの取得\n",
        "nani = 'TMP_mea'                      # 日平均気温\n",
        "itsu = [ \"2023-01-01\", \"2023-12-31\" ] # 1年分\n",
        "doko = [ 34.666, 35.333, 136.000, 137.000]    #愛知県周辺です。\n",
        "data, tim, lat, lon = amd.GetMetData(nani, itsu, doko )"
      ]
    },
    {
      "cell_type": "markdown",
      "id": "512ef2f0-89b1-4b63-a28d-69983f91ccb1",
      "metadata": {
        "id": "512ef2f0-89b1-4b63-a28d-69983f91ccb1"
      },
      "source": [
        "　次に、時刻の座標 **tim** を加工して、月の値の配列、すなわち、取得したデータの日付座標とおなじ数(365個)の要素を持ち、最初の31個は1、次の28個は2、・・、最後の31個は12が入っている整数の配列、を作ります。それは以下で作れます。"
      ]
    },
    {
      "cell_type": "code",
      "execution_count": null,
      "id": "c2928984-0308-4163-a8c5-84dd6884de93",
      "metadata": {
        "id": "c2928984-0308-4163-a8c5-84dd6884de93"
      },
      "outputs": [],
      "source": [
        "# 月が格納されている配列\n",
        "mm = np.array([dd.month for dd in tim])"
      ]
    },
    {
      "cell_type": "code",
      "execution_count": null,
      "id": "01b3ce7d-20ba-4a1f-b9b3-5b0d2e921e86",
      "metadata": {
        "id": "01b3ce7d-20ba-4a1f-b9b3-5b0d2e921e86"
      },
      "outputs": [],
      "source": [
        "mm  # 確認したい場合実行"
      ]
    },
    {
      "cell_type": "markdown",
      "id": "bd487221-70d6-476c-b39c-a92ec98182de",
      "metadata": {
        "id": "bd487221-70d6-476c-b39c-a92ec98182de"
      },
      "source": [
        "　配列 **tim** を構成する要素は Python標準の日時オブジェクトなので、属性 **month** により、月の数字(1月なら「1」)を取り出すことができます。上のスクリプトでは、この方法で tim のすべての要素から月の数字を取り出してリストにし(リスト内包標記の部分)、さらにそれを、ndarray オブジェクトに変換しています。<br>\n",
        " 月の数字が格納された配列ができれば、これに関数 numpy.where を適用して、特定の月のデータが格納されているインデックスを得ることができます。"
      ]
    },
    {
      "cell_type": "code",
      "execution_count": null,
      "id": "e83452cc-a4cc-4a38-91b6-4fbbb505a3f3",
      "metadata": {
        "id": "e83452cc-a4cc-4a38-91b6-4fbbb505a3f3"
      },
      "outputs": [],
      "source": [
        "# 指定した月のデータが格納されている要素のインデックスを得るスクリプト\n",
        "month_i = 2  # 例えば2月\n",
        "idx = np.where(mm == month_i)"
      ]
    },
    {
      "cell_type": "code",
      "execution_count": null,
      "id": "6d5a8b86-84b5-4593-9d94-91c296de88d6",
      "metadata": {
        "id": "6d5a8b86-84b5-4593-9d94-91c296de88d6"
      },
      "outputs": [],
      "source": [
        "idx  # 確認したい場合実行"
      ]
    },
    {
      "cell_type": "markdown",
      "id": "6cc8b7ce-15b7-4c69-ae0c-d406ffc39c08",
      "metadata": {
        "id": "6cc8b7ce-15b7-4c69-ae0c-d406ffc39c08"
      },
      "source": [
        "インデックスが分かれば、1年分の気温データから特定月のデータだけを抜き出すことができるので、これに平均を計算するメソッド **mean** を適用します。"
      ]
    },
    {
      "cell_type": "code",
      "execution_count": null,
      "id": "86f8e35a-b1c0-4c50-b301-13c4938ed071",
      "metadata": {
        "id": "86f8e35a-b1c0-4c50-b301-13c4938ed071"
      },
      "outputs": [],
      "source": [
        "datai = data[idx]\n",
        "Tmonmea = datai.mean(axis=0)"
      ]
    },
    {
      "cell_type": "markdown",
      "id": "8562abf0-16ba-4a95-895b-6a2b30fb1b3f",
      "metadata": {
        "id": "8562abf0-16ba-4a95-895b-6a2b30fb1b3f"
      },
      "source": [
        "　これで2月の月平均気温のデータができました。可視化します。"
      ]
    },
    {
      "cell_type": "code",
      "execution_count": null,
      "id": "002d205b-84bd-4735-9c31-27b3cdc70e3c",
      "metadata": {
        "id": "002d205b-84bd-4735-9c31-27b3cdc70e3c"
      },
      "outputs": [],
      "source": [
        "amd.mapfig(Tmonmea, lat, lon,\n",
        "        figtitle=f'Mean air temperature in Month-{month_i}, 2023')"
      ]
    },
    {
      "cell_type": "markdown",
      "id": "d708be6a-8a9c-4a66-aced-8511df52a9b3",
      "metadata": {
        "id": "d708be6a-8a9c-4a66-aced-8511df52a9b3"
      },
      "source": [
        "　細切れに説明したスクリプトをまとめ、さらにforループに納めたものを下に示します(データの取得部分は含めていません)。<br>\n",
        "　これを実行すると12枚の分布図が表示されます。確認したら左端の青太線をクリックして図を畳んでおいてください。"
      ]
    },
    {
      "cell_type": "code",
      "execution_count": null,
      "id": "81d31d63-5c0f-4471-82bc-82527b658b6e",
      "metadata": {
        "id": "81d31d63-5c0f-4471-82bc-82527b658b6e"
      },
      "outputs": [],
      "source": [
        "mm = np.array([dd.month for dd in tim])\n",
        "months = sorted(list(set(mm)))  # mmから重複を除いてソートし[1,2,..,12]を作ってみた\n",
        "for month_i in months: #[0:2]:\n",
        "    idx = np.where(mm == month_i)\n",
        "    Tmonmea = data[idx].mean(axis=0)\n",
        "    amd.mapfig(Tmonmea, lat, lon,\n",
        "            minmax = [-5,30],\n",
        "            figtitle=f'Mean air temperature in Month-{month_i}, 2023')"
      ]
    },
    {
      "cell_type": "markdown",
      "id": "12ef1922-8b36-4f97-921c-90f6f7f302d2",
      "metadata": {
        "jp-MarkdownHeadingCollapsed": true,
        "id": "12ef1922-8b36-4f97-921c-90f6f7f302d2"
      },
      "source": [
        "## 2 pandas を利用した集計\n",
        "　取得した気象データを、ライブラリ pandas が提供するオブジェクト DataFrame\n",
        " に変換するとより柔軟にデータを集計することができます。"
      ]
    },
    {
      "cell_type": "markdown",
      "id": "fc6d8ffb-0f55-4f27-b9c4-f0fd38969fb4",
      "metadata": {
        "id": "fc6d8ffb-0f55-4f27-b9c4-f0fd38969fb4"
      },
      "source": [
        "#### 例\n",
        "　茨城県つくば市における、2023年の各月の日最高気温の最大値を求める。"
      ]
    },
    {
      "cell_type": "markdown",
      "id": "29d01668-4b49-4a2b-9be6-064f121dd0f0",
      "metadata": {
        "id": "29d01668-4b49-4a2b-9be6-064f121dd0f0"
      },
      "source": [
        "　まず、気象データを取得します。"
      ]
    },
    {
      "cell_type": "code",
      "execution_count": null,
      "id": "5288a6fe-e39a-4201-9aea-6dd2437ccf26",
      "metadata": {
        "id": "5288a6fe-e39a-4201-9aea-6dd2437ccf26"
      },
      "outputs": [],
      "source": [
        "# 気象データの取得\n",
        "nani = 'TMP_max'                      # 日平均気温\n",
        "itsu = [ \"2023-01-01\", \"2023-12-31\" ] # 1年分\n",
        "doko = [ 36.057, 36.057, 140.025, 140.025]    #アメダス つくば (茨城県つくば市内)\n",
        "data, tim, lat, lon = amd.GetMetData(nani, itsu, doko )\n",
        "data = data[:,0,0]"
      ]
    },
    {
      "cell_type": "markdown",
      "id": "52dccdb0-bca0-4df6-9a85-0e2dd76dce22",
      "metadata": {
        "id": "52dccdb0-bca0-4df6-9a85-0e2dd76dce22"
      },
      "source": [
        "これを DataFrame オブジェクトにします。"
      ]
    },
    {
      "cell_type": "code",
      "execution_count": null,
      "id": "c8a37131-4f39-458a-a7a3-58b7c3404bca",
      "metadata": {
        "id": "c8a37131-4f39-458a-a7a3-58b7c3404bca"
      },
      "outputs": [],
      "source": [
        "# DataFrame オブジェクトの作成\n",
        "df = pd.DataFrame(data,\n",
        "                  columns=['つくば'],\n",
        "                  index=tim)"
      ]
    },
    {
      "cell_type": "code",
      "execution_count": null,
      "id": "032c1579-9140-40a7-b872-1e7c5b737754",
      "metadata": {
        "id": "032c1579-9140-40a7-b872-1e7c5b737754"
      },
      "outputs": [],
      "source": [
        "df  # 確認したい場合実行"
      ]
    },
    {
      "cell_type": "markdown",
      "id": "9c778e77-fcf9-4010-a9aa-ce8b8009a897",
      "metadata": {
        "id": "9c778e77-fcf9-4010-a9aa-ce8b8009a897"
      },
      "source": [
        "　これを集計するには、まず、メソッド **resample** でデータ全体を集計単位にグループ分けし、さらに、集計するメソッド を繋げてグループ内を集計します。<br>\n",
        "　今回は月集計なので、reample には引数として 'MS' を与えます。月集計だけでなく週集計('W')や、_n_ 日間隔(_n_ D)などでの集計も可能です。詳しくは以下を参照してください。<br>\n",
        "　(https://pandas.pydata.org/pandas-docs/stable/reference/api/pandas.DataFrame.resample.html)\n",
        "\n",
        "　グループ分けしたそれぞれに対し、今回は最大値を取るので、集計のメソッドには **max** を使用します。"
      ]
    },
    {
      "cell_type": "code",
      "execution_count": null,
      "id": "4d351abc-95dc-4248-875d-f2b223c99e2a",
      "metadata": {
        "id": "4d351abc-95dc-4248-875d-f2b223c99e2a"
      },
      "outputs": [],
      "source": [
        "# 集計\n",
        "dfmonmax = df.resample(\"MS\").max()\n",
        "dfmonmax"
      ]
    }
  ],
  "metadata": {
    "kernelspec": {
      "display_name": "Python 3 (ipykernel)",
      "language": "python",
      "name": "python3"
    },
    "language_info": {
      "codemirror_mode": {
        "name": "ipython",
        "version": 3
      },
      "file_extension": ".py",
      "mimetype": "text/x-python",
      "name": "python",
      "nbconvert_exporter": "python",
      "pygments_lexer": "ipython3",
      "version": "3.10.13"
    },
    "colab": {
      "provenance": [],
      "include_colab_link": true
    }
  },
  "nbformat": 4,
  "nbformat_minor": 5
}