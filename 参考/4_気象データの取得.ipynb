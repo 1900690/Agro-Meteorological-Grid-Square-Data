{
  "cells": [
    {
      "cell_type": "markdown",
      "metadata": {
        "id": "view-in-github",
        "colab_type": "text"
      },
      "source": [
        "<a href=\"https://colab.research.google.com/github/1900690/Agro-Meteorological-Grid-Square-Data/blob/main/%E5%8F%82%E8%80%83/4_%E6%B0%97%E8%B1%A1%E3%83%87%E3%83%BC%E3%82%BF%E3%81%AE%E5%8F%96%E5%BE%97.ipynb\" target=\"_parent\"><img src=\"https://colab.research.google.com/assets/colab-badge.svg\" alt=\"Open In Colab\"/></a>"
      ]
    },
    {
      "cell_type": "markdown",
      "id": "d39e15c8-f305-40d8-b52b-a7efdb62cd6a",
      "metadata": {
        "id": "d39e15c8-f305-40d8-b52b-a7efdb62cd6a"
      },
      "source": [
        "農研機構メッシュ農業気象データシステム(AMGSDS) 　ドキュメント<br>\n",
        "チュートリアル　４ 気象データの取得"
      ]
    },
    {
      "cell_type": "markdown",
      "id": "4676e3b4-ad1c-4efc-8a5f-6146daf0b73e",
      "metadata": {
        "id": "4676e3b4-ad1c-4efc-8a5f-6146daf0b73e"
      },
      "source": [
        "# 気象データの取得\n",
        "　このチュートリアルでは、メッシュ農業気象データシステムのデータ配信サーバーから気象データを取得する方法と、そのデータの形式等について学習します。\n",
        "\n",
        "　まず、以下のセルを実行し、このチュートリアルで使用するライブラリを読み込んでください。<br>\n",
        "（実行後は、左端の青太線をクリックして畳んでおいてください）\n",
        "* 図で日本語を使用したい場合は、**AMD_Tools4.pyの89-90行目**のコメントアウトを外して有効にしてください。その際、コメントをよく読みOSの違いにご注意ください。"
      ]
    },
    {
      "cell_type": "code",
      "execution_count": null,
      "id": "b1f8ea83-578f-4ff9-9708-7b339a2a0bf0",
      "metadata": {
        "jupyter": {
          "source_hidden": true
        },
        "id": "b1f8ea83-578f-4ff9-9708-7b339a2a0bf0"
      },
      "outputs": [],
      "source": [
        "# このチュートリアルで使用するライブラリ\n",
        "# ライブラリ（メッシュデータ処理のために必要）\n",
        "import numpy as np\n",
        "import AMD_Tools4 as amd"
      ]
    },
    {
      "cell_type": "markdown",
      "id": "48f917f0-1944-48af-9a39-55754770206b",
      "metadata": {
        "jp-MarkdownHeadingCollapsed": true,
        "id": "48f917f0-1944-48af-9a39-55754770206b"
      },
      "source": [
        "## 1 関数 GetMetData\n",
        "メッシュ日別気象データは、ライブラリ AMD_Tools4 に収録される関数 GetMetData で取得します。"
      ]
    },
    {
      "cell_type": "markdown",
      "id": "1f063de2-ab06-4bdc-be58-05e86f0c0432",
      "metadata": {
        "jupyter": {
          "source_hidden": true
        },
        "id": "1f063de2-ab06-4bdc-be58-05e86f0c0432"
      },
      "source": [
        "```Python\n",
        "AMD_Tools4.GetMetData(nani, itsu, doko, cli=False, namuni=False, url='https://amd.rd.naro.go.jp/opendap/AMD/')\n",
        "```\n",
        "引数(必須)：<br>\n",
        "* **nani**： 気象要素記号で、'TMP_mea'などの文字列で与える\n",
        "* **itsu**： 取得するデータの時間範囲で、['2008-05-05', '2009-05-05'] のように文字列の2要素リストで与える。特定の日のデータを取得するときは二カ所に同じ日付を与える。\n",
        "* **doko**： 取得するデータの緯度と経度の範囲を、[36.0, 40.0, 130.0, 135.0] のように緯度経度の順で範囲の最小値と最大値を十進小数で指定する。特定地点のデータを取得するときは、それぞれの最小値と最大値に同じ値を与える。\n",
        "  \n",
        "引数(必要なときだけ使用)：<br>\n",
        "* **cli**: cli=True とすると気象値ではなく平年値が返される。\n",
        "* **namuni**: namuni=True とすると、関数の戻り値に、気象要素の正式名称と単位が追加される。\n",
        "* **url**: 気象データを取り出す場所を指定する。省略した場合は**農研機構のデータ配信サーバー** からデータを取得する。\n",
        "\n",
        "戻り値：<br>\n",
        "* **第1戻り値**： 指定した気象要素の３次元(時刻、緯度、経度) 配列。範囲の指定の仕方にかかわらず常に３次元となる。\n",
        "* **第2戻り値**： 切り出した気象データの日付の１次元配列。値はdatetimeオブジェクト。\n",
        "* **第3戻り値**： 切り出した気象データの緯度の１次元配列。値は浮動小数。\n",
        "* **第4戻り値**： 切り出した気象データの経度の１次元配列。値は浮動小数。\n",
        "* **第5戻り値**(引数に namuni=True を加えたときのみ)： 気象データの正式名。文字列。\n",
        "* **第6戻り値**(引数に namuni=True を加えたときのみ)： 気象データの単位。文字列。\n"
      ]
    },
    {
      "cell_type": "markdown",
      "id": "8e347dbd-39f3-4d16-b95f-035406d3bae8",
      "metadata": {
        "jupyter": {
          "source_hidden": true
        },
        "id": "8e347dbd-39f3-4d16-b95f-035406d3bae8"
      },
      "source": [
        "　使用する際には、ライブラリ **AMD_Tools4** を、あらかじめインポートしておきます。"
      ]
    },
    {
      "cell_type": "markdown",
      "id": "8000de10-0885-42a7-9d01-035bc0d617f9",
      "metadata": {
        "jupyter": {
          "source_hidden": true
        },
        "id": "8000de10-0885-42a7-9d01-035bc0d617f9"
      },
      "source": [
        "#### 参考\n",
        "　取得する緯度経度範囲を地図を見ながら定めるには、以下のサイトを利用します。<br>\n",
        " https://amu.rd.naro.go.jp/wiki_open/lib/exe/fetch.php?media=wiki:about:mapl_ver2.1.html\n",
        "\n",
        " （開かない場合は、メッシュ農業気象データHPトップ＜ https://amu.rd.naro.go.jp/wiki_open/ ＞→登録利用者専用ページ にある、緯度経度確認HTMLファイルをダウンロードして利用してください。）\n",
        "\n",
        "　指先型のカーソルで地図上の地点をクリックすると、ブラウザ左下に、その地点の緯度経度が表示されるので、それをコピーして下さい。表示の小数桁は大変長いですが、大雑把に言って、0.00001度が地上の1メートルぐらいなので、長く書き込んでも意味はありません。<br>\n",
        "　なお、表示される地図の1次メッシュや3次メッシュの格子は表示/非表示を切り替えることができます。\n",
        "\n",
        "　3次メッシュコードが分かっていて、その中心緯度経度が知りたいときは、ライブラリ **AMD_Tools4** が提供する関数 **mesh2lalo** を使用してください。"
      ]
    },
    {
      "cell_type": "code",
      "execution_count": null,
      "id": "76602ee4-7e50-4d5b-9b79-239c0e030f8b",
      "metadata": {
        "id": "76602ee4-7e50-4d5b-9b79-239c0e030f8b"
      },
      "outputs": [],
      "source": [
        "amd.mesh2lalo('49346194')"
      ]
    },
    {
      "cell_type": "markdown",
      "id": "891c9879-9242-4e45-88f1-dc7e04e8dd30",
      "metadata": {
        "jp-MarkdownHeadingCollapsed": true,
        "id": "891c9879-9242-4e45-88f1-dc7e04e8dd30"
      },
      "source": [
        "## 2 データの取得\n",
        "　高知県の室戸岬先端周辺の、下図に示す 30 メッシュの領域の気象データを実際に取得してみましょう。気象要素は日平均気温、期間は2023年6月1日～6月3日とします。"
      ]
    },
    {
      "cell_type": "markdown",
      "id": "f4579530-6c3b-456c-ad15-7fa5a79daf31",
      "metadata": {
        "id": "f4579530-6c3b-456c-ad15-7fa5a79daf31"
      },
      "source": [
        "　関数 GetMetData の第１引数に与える気象要素の記号は、日平均気温に対しては **TMP_mea** です。なお、気象要素に与えられている記号は下記リンクで確認することができます。<br>\n",
        "https://amu.rd.naro.go.jp/wiki_open/doku.php?id=about#多彩な気象要素が用意されています\n",
        "\n",
        "　第２引数に与える期間のリストは、期間の初めと終わりの日付を文字列で与えればよいので、 **['2023-06-01','2023-06-03']** となります。\n",
        "\n",
        "　関数、GetMetData は、第３引数で指定した領域に少しでも掛かれば、そのメッシュのデータも取得する仕様なので、範囲指定の際、メッシュ範囲外縁の緯度経度を与えると、数値の丸めの関係から、余分な３次メッシュが取得されることがあります。これを避けたい場合は、外縁ではなくメッシュの中心点の緯度経度座標を与えるとよいでしょう。このやり方では、第３引数に与えるリストは **[33.2375, 33.2792, 134.1437, 134.1938]** となります。\n"
      ]
    },
    {
      "cell_type": "code",
      "execution_count": null,
      "id": "0d7a5b39-49ab-45aa-b4d5-38f1719c0ab4",
      "metadata": {
        "id": "0d7a5b39-49ab-45aa-b4d5-38f1719c0ab4"
      },
      "outputs": [],
      "source": [
        "# 変数に取得条件を設定\n",
        "nani = 'TMP_mea'                         #気象要素の指定。TMP_meaは日平均気温を意味します。\n",
        "itsu = ['2016-06-01', '2016-06-03']         #期間の設定。\n",
        "doko = [33.2375, 33.2792, 134.1437, 134.1938]    #領域の設定。室戸岬の先端あたりです。\n",
        "\n",
        "# 設定に基づき気象データを取得\n",
        "data, tim, lat, lon = amd.GetMetData(nani, itsu, doko)"
      ]
    },
    {
      "cell_type": "markdown",
      "id": "72281826-c1b0-4318-94c4-759f3861e934",
      "metadata": {
        "id": "72281826-c1b0-4318-94c4-759f3861e934"
      },
      "source": [
        "　上のスクリプトを実行し、「TMP_mea (3, 6, 5)」と表示されたらデータは正常に取得されています。この表示は、日平均気温（TMP_mea）のデータが 時間方向に3データ、緯度方向に6データ、経度方向に5データのサイズで取得されたことを示しています。"
      ]
    },
    {
      "cell_type": "markdown",
      "id": "a3a8238d-0e35-45de-8f65-fca495daae64",
      "metadata": {
        "jp-MarkdownHeadingCollapsed": true,
        "id": "a3a8238d-0e35-45de-8f65-fca495daae64"
      },
      "source": [
        "## 3 データの形式\n",
        "　関数 **GetMetData** は、**データ本体**、**時刻**、**緯度**、**経度** からなる４つの戻り値を返します。それらについて順に説明します。"
      ]
    },
    {
      "cell_type": "markdown",
      "id": "4814924f-91ca-48d0-b4b8-f4247368eddb",
      "metadata": {
        "id": "4814924f-91ca-48d0-b4b8-f4247368eddb"
      },
      "source": [
        "　気象データ本体は、３次元の **Numpy.ndarray** オブジェクト（チュートリアル２「Numpyの基礎」参照のこと）で返されます。３次元なので、表示させると括弧が三重に組み合わされた数値の羅列となります。"
      ]
    },
    {
      "cell_type": "code",
      "execution_count": null,
      "id": "e0b930a6-3741-4363-8440-c5407b8dc793",
      "metadata": {
        "id": "e0b930a6-3741-4363-8440-c5407b8dc793"
      },
      "outputs": [],
      "source": [
        "print(data)"
      ]
    },
    {
      "cell_type": "markdown",
      "id": "2dd0529b-231c-4dbd-b5ed-672f648cf3b6",
      "metadata": {
        "id": "2dd0529b-231c-4dbd-b5ed-672f648cf3b6"
      },
      "source": [
        "　メッシュ農業気象データシステムは、海や大きな湖沼などのメッシュに対しては気象データを作らず、「無効」を示す特別な数値（ **無効値** ）を埋め込みます。そして、この無効値は、関数 print 等では、「**nan** 」と表示されます。上の表示でこれが多数存在するのは、室戸岬が海で囲まれていることを反映しています。\n",
        "  \n",
        "　メッシュ農業気象データシステムではデータが持つ３つの次元、**第0次元**、**第1次元**、**第2次元**に、それぞれ、**時刻**、**緯度**、**経度** を割り当てています。この関係は下図のようになります。例えば、**data[2,1,3]** とは、取得した配列において、（人間の数え方で）時間方向に **3** 番目、緯度方向に **2** 番目、経度方向に **4** 番目のデータを指し示していることになります。\n",
        "　おさらいになりますが、配列中の特定の要素を指定するときに、\"○番目\" として使う数字のことを**インデックス** と呼びます。"
      ]
    },
    {
      "cell_type": "markdown",
      "id": "0dea6970-67c0-4f56-bc89-16e798f15f61",
      "metadata": {
        "id": "0dea6970-67c0-4f56-bc89-16e798f15f61"
      },
      "source": [
        "　データ本体の特定の要素にアクセスするにはインデックスを使用すればよいことが分かりましたが、では、そのインデックスは、実際には、何月何日/北緯何度/東経何度に対応しているのでしょうか。インデックスが指し示す現実世界の物理量のことを **座標** と呼びます。各次元の座標値は、関数 **GetMetData** の第2戻り値～第4戻り値で戻されます。今回の場合、時刻座標が **tim**、緯度座標が **lat**、経度座標が **lon** に収められています。\n",
        "\n",
        " ではそれらを確認してみましょう。まず時間座標です。"
      ]
    },
    {
      "cell_type": "code",
      "execution_count": null,
      "id": "cec094d2-d3f0-49f2-ad04-2be7c1085c68",
      "metadata": {
        "id": "cec094d2-d3f0-49f2-ad04-2be7c1085c68"
      },
      "outputs": [],
      "source": [
        "print(tim)"
      ]
    },
    {
      "cell_type": "markdown",
      "id": "ca35a64e-18f7-4e7b-aa87-b31d814016c5",
      "metadata": {
        "id": "ca35a64e-18f7-4e7b-aa87-b31d814016c5"
      },
      "source": [
        "　時間座標は **datetime** オブジェクト（チュートリアル１「Pythonの基礎」17 参照）のリスト（同5参照）で返されます。<br>\n",
        "　**lat** と **lon** は、１次元のNumpy.ndarrayオブジェクトで返されます、それぞれ、取得されたメッシュの中心の緯度と経度です。"
      ]
    },
    {
      "cell_type": "code",
      "execution_count": null,
      "id": "5dbc4b6e-a32b-4f3a-8bea-e9f044671d36",
      "metadata": {
        "id": "5dbc4b6e-a32b-4f3a-8bea-e9f044671d36"
      },
      "outputs": [],
      "source": [
        "print(lat)"
      ]
    },
    {
      "cell_type": "code",
      "execution_count": null,
      "id": "5f1b9e1b",
      "metadata": {
        "id": "5f1b9e1b"
      },
      "outputs": [],
      "source": [
        "print(lon)"
      ]
    },
    {
      "cell_type": "code",
      "execution_count": null,
      "id": "1ff3322d-69b3-4e4e-9c9f-5326b999b85c",
      "metadata": {
        "id": "1ff3322d-69b3-4e4e-9c9f-5326b999b85c"
      },
      "outputs": [],
      "source": [
        "t,y,x = 2,1,3\n",
        "print(data[t,y,x])\n",
        "print(tim[t])\n",
        "print(lat[y])\n",
        "print(lon[x])"
      ]
    },
    {
      "cell_type": "markdown",
      "id": "bc02458b-8db7-4cf5-8ed9-fd67a9de99e6",
      "metadata": {
        "jp-MarkdownHeadingCollapsed": true,
        "id": "bc02458b-8db7-4cf5-8ed9-fd67a9de99e6"
      },
      "source": [
        "#### 注意\n",
        "　インデックスは、あくまで、取得した時間・緯度・経度範囲における番号です。t=2 が常に2016年1月3日を示すわけではありません。"
      ]
    },
    {
      "cell_type": "markdown",
      "id": "ff2c221b-d357-491d-a93b-4a9cf1e704a5",
      "metadata": {
        "jp-MarkdownHeadingCollapsed": true,
        "id": "ff2c221b-d357-491d-a93b-4a9cf1e704a5"
      },
      "source": [
        "## 4 特定日だけの取得\n",
        "　特定の一日分だけを取得するときは、期間の開始日と終了日に同じ日付を与えます。"
      ]
    },
    {
      "cell_type": "markdown",
      "id": "4b3f5a56-bd63-4f59-88e9-8879213bc2e4",
      "metadata": {
        "id": "4b3f5a56-bd63-4f59-88e9-8879213bc2e4"
      },
      "source": [
        "　以下のようにすると、2016年6月1日だけのデータが取得できます。"
      ]
    },
    {
      "cell_type": "code",
      "execution_count": null,
      "id": "1e7b3d9e-db51-4b06-9366-80b6fccf6fe0",
      "metadata": {
        "id": "1e7b3d9e-db51-4b06-9366-80b6fccf6fe0"
      },
      "outputs": [],
      "source": [
        "# 変数に取得条件を設定\n",
        "nani = 'TMP_mea'\n",
        "itsu = ['2016-06-01', '2016-06-01']\n",
        "doko = [33.2375, 33.2792, 134.1437, 134.1938]\n",
        "\n",
        "# 設定に基づき気象データを取得\n",
        "data, tim, lat, lon = amd.GetMetData(nani, itsu, doko)\n",
        "\n",
        "# 表示\n",
        "print(data)"
      ]
    },
    {
      "cell_type": "markdown",
      "id": "d7f55096-ed52-48a3-9f19-8c6b169eeda5",
      "metadata": {
        "id": "d7f55096-ed52-48a3-9f19-8c6b169eeda5"
      },
      "source": [
        "　１日分のデータなので、実質的には2次元(緯度、経度)ですが、3次元用の入れ物[[[ ]]]に入っています。<br>\n",
        "　３次元の入れ物から２次元の入れ物（data2d）に入れなおすには、次のようにします。"
      ]
    },
    {
      "cell_type": "code",
      "execution_count": null,
      "id": "6ee9bc23-fe19-4383-a70f-aacb4da92a35",
      "metadata": {
        "id": "6ee9bc23-fe19-4383-a70f-aacb4da92a35"
      },
      "outputs": [],
      "source": [
        "data2d = data[0,:,:]\n",
        "\n",
        "print(data2d)"
      ]
    },
    {
      "cell_type": "markdown",
      "id": "0fd56efd-dd0c-4178-8edc-66e5a6a8842c",
      "metadata": {
        "jp-MarkdownHeadingCollapsed": true,
        "id": "0fd56efd-dd0c-4178-8edc-66e5a6a8842c"
      },
      "source": [
        "## 5 特定メッシュだけの取得\n",
        "　特定の単一メッシュだけの気象値を取得するには、緯度の最大値と最小値、経度の最大値と最小値をそれぞれ同一に設定して引数に与えます。"
      ]
    },
    {
      "cell_type": "markdown",
      "id": "d095e9de-bfc3-475d-9402-b14ef7716288",
      "metadata": {
        "id": "d095e9de-bfc3-475d-9402-b14ef7716288"
      },
      "source": [
        "　以下のようにすると、北緯33.2458度,東経134.1812度の地点を含むメッシュの気温が取得できます。"
      ]
    },
    {
      "cell_type": "code",
      "execution_count": null,
      "id": "56af712a-dfa2-480f-a345-e486b843fece",
      "metadata": {
        "id": "56af712a-dfa2-480f-a345-e486b843fece"
      },
      "outputs": [],
      "source": [
        "# 変数に取得条件を設定\n",
        "nani = 'TMP_mea'\n",
        "itsu = [ \"2016-06-01\", \"2016-06-03\" ]\n",
        "doko = [ 33.2458, 33.2458,  134.1812, 134.1812 ]  # 単一のメッシュを指定するには緯度や経度の最大と最小値を同一にします\n",
        "\n",
        "# 設定に基づき気象データを取得\n",
        "data, tim, lat, lon = amd.GetMetData(nani, itsu, doko)\n",
        "\n",
        "# 表示\n",
        "print(data)"
      ]
    },
    {
      "cell_type": "markdown",
      "id": "66beb002-17b1-4d62-a7e9-90caacd725ef",
      "metadata": {
        "id": "66beb002-17b1-4d62-a7e9-90caacd725ef"
      },
      "source": [
        "　単一メッシュなので、実質的には1次元(日付)ですが、３次元用の入れ物[[[ ]]]に入っています。<br>\n",
        "　３次元の入れ物から１次元の入れ物（data1d）に入れなおすには、次のようにします。"
      ]
    },
    {
      "cell_type": "code",
      "execution_count": null,
      "id": "87bdbd75-2b6c-45a7-a567-4671c4a8e7ab",
      "metadata": {
        "id": "87bdbd75-2b6c-45a7-a567-4671c4a8e7ab"
      },
      "outputs": [],
      "source": [
        "data1d = data[:,0,0]\n",
        "\n",
        "print(data1d)"
      ]
    },
    {
      "cell_type": "markdown",
      "id": "616c1626-55c3-45a0-9f62-b4d7114aba12",
      "metadata": {
        "jp-MarkdownHeadingCollapsed": true,
        "id": "616c1626-55c3-45a0-9f62-b4d7114aba12"
      },
      "source": [
        "## 6 平年値の取得\n",
        "　幾つかの気象要素には、平年値が用意されています。平年値を取得するには、関数 GetMetData のキーワード引数 **cli** を用い、これに**True**（真）を与えます。平年値が用意されていない気象要素を指定して実行するとエラーとなります。"
      ]
    },
    {
      "cell_type": "markdown",
      "id": "0530cd9c-56e2-472d-8eb9-47d7c54837a5",
      "metadata": {
        "id": "0530cd9c-56e2-472d-8eb9-47d7c54837a5"
      },
      "source": [
        "　平年値の有無についても、以下のリンクで確認してください。<br>\n",
        "https://amu.rd.naro.go.jp/wiki_open/doku.php?id=about#多彩な気象要素が用意されています"
      ]
    },
    {
      "cell_type": "code",
      "execution_count": null,
      "id": "ab476758-b6ba-4911-beb6-fab24faf06ae",
      "metadata": {
        "id": "ab476758-b6ba-4911-beb6-fab24faf06ae"
      },
      "outputs": [],
      "source": [
        "# 変数に取得条件を設定\n",
        "nani = 'TMP_mea'\n",
        "itsu = ['2016-06-01', '2016-06-03']\n",
        "doko = [33.2375, 33.2792, 134.1437, 134.1938]\n",
        "\n",
        "# 設定に基づき気象データを取得\n",
        "data, tim, lat, lon = amd.GetMetData(nani, itsu, doko, cli=True)\n",
        "\n",
        "# 表示\n",
        "print(data)"
      ]
    },
    {
      "cell_type": "markdown",
      "id": "a2931939-9045-404c-b77e-6bc7faa3d184",
      "metadata": {
        "jp-MarkdownHeadingCollapsed": true,
        "id": "a2931939-9045-404c-b77e-6bc7faa3d184"
      },
      "source": [
        "## 7 簡単な可視化\n",
        "　Pythonは非常に美しい図をつくることができますが、その方法を覚えるのは大変です。言語Pythonとメッシュ農業気象データの取り扱いを理解するまでは、AMD_Tools4に含まれる２種類の簡単な関数で間に合わせてください。"
      ]
    },
    {
      "cell_type": "markdown",
      "id": "9e8d4bbb-1ed1-4ec1-a026-6a343466f6f0",
      "metadata": {
        "id": "9e8d4bbb-1ed1-4ec1-a026-6a343466f6f0"
      },
      "source": [
        "### 7.1 メッシュデータの折れ線グラフ\n",
        "　AMD_Tools4に含まれる関数 **linefig** は、１次元配列のデータをシンプルな折れ線グラフとして可視化します。"
      ]
    },
    {
      "cell_type": "markdown",
      "id": "188dd2f1-69de-48f8-84f1-df0e25beba90",
      "metadata": {
        "id": "188dd2f1-69de-48f8-84f1-df0e25beba90"
      },
      "source": [
        "```Python\n",
        " AMD_Tools4.linefig(time,var,title='',ylabel='',llabel='',\n",
        "               timeref=None,ref=None,ylabelref='',llabelref='',\n",
        "               commony=True,fgsize=(12,4),filename=None)\n",
        "```\n",
        "引数(必須)：<br>\n",
        "* **time**： 折れ線グラフの日付軸となるdatetimeオブジェクト１次元配列\n",
        "* **var**： 折れ線の値の１次元配列\n",
        "  \n",
        "引数(必要なときだけ使用)：<br>\n",
        "* **title**: title=\"文字列\" とすると、図の上にその文字列を表示する。\n",
        "* **ylabel**: ylabel=\"文字列\" とすると、縦軸にその文字列を表示する(縦軸ラベル)。\n",
        "* **llabel**: llabel=\"文字列\" とすると、凡例を付け文字列を表示する(凡例ラベル)。\n",
        "* **timeref**: 参照の折れ線の時刻の配列（与えられなければtimeが用いられる）\n",
        "* **ref**: 折れ線のほかに参照の折れ線を表示したいときにそのデータを与える。\n",
        "* **ylabelref**: 参照の折れ線の縦軸ラベル\n",
        "* **llabelref**: 参照の折れ線の凡例ラベル\n",
        "* **commony**: commony=falseとすると第２縦軸を用意する\n",
        "* **figsize**: 図の横,縦のサイズ　デフォルトでは横12縦4インチ\n",
        "* **filename**: 図をpngファイルで保存したいときにファイル名を指定する\n",
        "\n",
        "戻り値：**なし**<br>"
      ]
    },
    {
      "cell_type": "markdown",
      "id": "56c85faa-aff7-4277-830a-458262a00670",
      "metadata": {
        "id": "56c85faa-aff7-4277-830a-458262a00670"
      },
      "source": [
        "#### 例１\n",
        "　室戸岬の最突端が位置するメッシュにおける2016年1月1日から翌年1月31日までの日平均気温を折れ線グラフにする。"
      ]
    },
    {
      "cell_type": "code",
      "execution_count": null,
      "id": "de1c0d50-b33c-4670-9abd-c388e84b735f",
      "metadata": {
        "id": "de1c0d50-b33c-4670-9abd-c388e84b735f"
      },
      "outputs": [],
      "source": [
        "# 基本的な設定\n",
        "nani = 'TMP_mea'\n",
        "itsu = [ \"2016-01-01\", \"2017-01-31\" ]\n",
        "doko = [ 33.2458, 33.2458, 134.18125, 134.18125 ]\n",
        "\n",
        "# 気象データの取得\n",
        "data, tim, lat, lon = amd.GetMetData(nani, itsu, doko)\n",
        "Ta = data[:,0,0]     #入れ物の入れ替え(3次元から1次元へ)"
      ]
    },
    {
      "cell_type": "code",
      "execution_count": null,
      "id": "4512ab4e-19be-4e1a-9fd8-1a7b1d9bef7e",
      "metadata": {
        "id": "4512ab4e-19be-4e1a-9fd8-1a7b1d9bef7e"
      },
      "outputs": [],
      "source": [
        "amd.linefig(tim, Ta)"
      ]
    },
    {
      "cell_type": "markdown",
      "id": "eaea81e4-abf3-4435-8bec-215db31155fa",
      "metadata": {
        "id": "eaea81e4-abf3-4435-8bec-215db31155fa"
      },
      "source": [
        "#### 例２\n",
        "　同一メッシュ、同一期間の平年値も取得して参照線として追加し、さらに、要素名と単位も取得して凡例等を整えたグラフを描く。"
      ]
    },
    {
      "cell_type": "markdown",
      "id": "5ac9f999-3cb9-47c2-b6f6-34af25a25179",
      "metadata": {
        "id": "5ac9f999-3cb9-47c2-b6f6-34af25a25179"
      },
      "source": [
        "　まず、平年値データを追加で取得します。"
      ]
    },
    {
      "cell_type": "code",
      "execution_count": null,
      "id": "6dbd9b5c-ce13-4a3f-8bb9-0a2f22a4fc5a",
      "metadata": {
        "id": "6dbd9b5c-ce13-4a3f-8bb9-0a2f22a4fc5a"
      },
      "outputs": [],
      "source": [
        "data,tim,lat,lon,nam,uni = amd.GetMetData(nani,itsu,doko,cli=True,namuni=True)  # 戻り値は6個になる\n",
        "Tn = data[:,0,0]   #入れ物の入れ替え(3次元から1次元へ)"
      ]
    },
    {
      "cell_type": "markdown",
      "id": "e3447300-eb76-473b-bb62-4eb29a750ab2",
      "metadata": {
        "id": "e3447300-eb76-473b-bb62-4eb29a750ab2"
      },
      "source": [
        "　そのうえで、気象値と平年値を重ねて描画します。"
      ]
    },
    {
      "cell_type": "code",
      "execution_count": null,
      "id": "e2a628ca-f561-41e6-8d1a-c653563ac46f",
      "metadata": {
        "id": "e2a628ca-f561-41e6-8d1a-c653563ac46f"
      },
      "outputs": [],
      "source": [
        "amd.linefig(tim, Ta,\n",
        "      title=f'N{lat[0]:.4f}, E{lon[0]:.4f}',\n",
        "      ylabel=f'{nam}  [{uni}]',\n",
        "      llabel='AMGSDS',\n",
        "      ref=Tn,\n",
        "      llabelref='Normal Value')"
      ]
    },
    {
      "cell_type": "markdown",
      "id": "2599fa17-3b04-4372-b994-ec2e24d31d15",
      "metadata": {
        "id": "2599fa17-3b04-4372-b994-ec2e24d31d15"
      },
      "source": [
        "### 7.2 メッシュデータの分布図\n",
        "　AMD_Tools4に含まれる関数 **mapfig** は、2次元配列のデータをシンプルな分布図として可視化します。"
      ]
    },
    {
      "cell_type": "markdown",
      "id": "31f2ffa0-e6fa-4840-b401-bb117a9049ac",
      "metadata": {
        "id": "31f2ffa0-e6fa-4840-b401-bb117a9049ac"
      },
      "source": [
        "```Python\n",
        " AMD_Tools4.mapfig(arr,lat,lon,minmax=None,figsize=None,\n",
        "               cmap='Spectral_r',figtitle='',barlabel='',\n",
        "               filename=None,**kwargs)\n",
        "```\n",
        "引数(必須)：\n",
        "* **arr**： 分布図にする２次元配列\n",
        "* **lat**： 緯度値の配列\n",
        "* **lon**： 経度値の配列\n",
        "  \n",
        "引数(必要なときだけ使用)：<br>\n",
        "* **minmax**： カラースケールの範囲を指定する場合に2要素リストで[最小値, 最大値] を与える\n",
        "* **figsize**： 分布図のサイズを指定する場合に、2要素リストで[横サイズ,縦サイズ]を与える\n",
        "* **cmap**： 配色を指定する場合に、\"カラースケール名\"を文字列で指定する\n",
        "* **figtitle**： 図の上に文字を表示する場合に、その文字列を与える\n",
        "* **barlabel**: カラースケールに文字列を付ける場合に、その文字列を与える\n",
        "* **filename**： 作画した分布図をPNGファイルで保存する場合に、\"文字列.png\"を与える。\n",
        "\n",
        "戻り値：**なし**<br>"
      ]
    },
    {
      "cell_type": "markdown",
      "id": "7ec77e10-aa6b-4f92-81e6-35d6ff41fd69",
      "metadata": {
        "id": "7ec77e10-aa6b-4f92-81e6-35d6ff41fd69"
      },
      "source": [
        "#### 例１\n",
        "　室戸岬を含む広い範囲における2016年1月1日の日平均気温を取得し分布図を描画する。"
      ]
    },
    {
      "cell_type": "code",
      "execution_count": null,
      "id": "0b633c7a-643c-4ad6-8287-6084d78146f2",
      "metadata": {
        "id": "0b633c7a-643c-4ad6-8287-6084d78146f2"
      },
      "outputs": [],
      "source": [
        "# 変数に取得条件を設定\n",
        "nani = 'TMP_mea'\n",
        "itsu = ['2016-01-01', '2016-01-01']\n",
        "doko = [33.0, 35.0, 132.0, 136.0]\n",
        "\n",
        "# 設定に基づき気象データを取得\n",
        "data, tim, lat, lon, nam, uni = amd.GetMetData(nani, itsu, doko, namuni=True)\n",
        "Ta = data[0,:,:]"
      ]
    },
    {
      "cell_type": "code",
      "execution_count": null,
      "id": "71abbc31-dc0b-4959-bb6b-dfd310807105",
      "metadata": {
        "id": "71abbc31-dc0b-4959-bb6b-dfd310807105"
      },
      "outputs": [],
      "source": [
        "amd.mapfig(Ta, lat, lon)"
      ]
    },
    {
      "cell_type": "markdown",
      "id": "5d6f9d4c-ad9f-4e2d-a97e-9355fa3dc48b",
      "metadata": {
        "id": "5d6f9d4c-ad9f-4e2d-a97e-9355fa3dc48b"
      },
      "source": [
        "#### 例２\n",
        "　同じ気温分布を、異なるカラースケール、異なるカラーマップで可視化するとともに、ファイル保存する。<br>\n",
        "　関数の引数の括弧の中では、改行を自由に入れることができます。"
      ]
    },
    {
      "cell_type": "code",
      "execution_count": null,
      "id": "ce364c4a-8133-45e3-9a25-cf27384143b9",
      "metadata": {
        "id": "ce364c4a-8133-45e3-9a25-cf27384143b9"
      },
      "outputs": [],
      "source": [
        "amd.mapfig(Ta, lat, lon, minmax=[-10,10],\n",
        "        figtitle=f'{nam}',\n",
        "        barlabel=f'[{uni}]',\n",
        "        filename='t4c72ex2.png',\n",
        "        cmap='coolwarm')\n",
        "# Python では、括弧の中では改行やインデントを自由にできます。"
      ]
    },
    {
      "cell_type": "markdown",
      "id": "52aaff2b-a327-4691-a3be-c260ea97791b",
      "metadata": {
        "id": "52aaff2b-a327-4691-a3be-c260ea97791b"
      },
      "source": [
        "### 7.3 地理院地図へのオーバーレイ\n",
        "　ライブラリ **AMD_Tools4** が提供する関数 **PutGSI_Map** を用いると、メッシュデータを地理院地図と重ね合わせて表示することができ、結果の詳細な確認が可能です。"
      ]
    },
    {
      "cell_type": "markdown",
      "id": "4c7e339b-ec53-4111-a37d-0eef3fe76d95",
      "metadata": {
        "id": "4c7e339b-ec53-4111-a37d-0eef3fe76d95"
      },
      "source": [
        "　下を実行するとファイルが４つ新規作成されるので、その中の１つ **t4c73.html** をダブルクリックしてください。"
      ]
    },
    {
      "cell_type": "code",
      "execution_count": null,
      "id": "197d574a-3ef0-42b4-89f1-f2d91e811b7b",
      "metadata": {
        "id": "197d574a-3ef0-42b4-89f1-f2d91e811b7b"
      },
      "outputs": [],
      "source": [
        "amd.PutGSI_Map(Ta, lat, lon, filename='t4c73')"
      ]
    },
    {
      "cell_type": "markdown",
      "id": "fba4f13d-8ac9-44fb-869f-c0274466d157",
      "metadata": {
        "id": "fba4f13d-8ac9-44fb-869f-c0274466d157"
      },
      "source": [
        "　４つのファイルがあれば、PythonやJupyterがインストールされていなくとも、インターネットに接続されたPCでは、同じ図を表示させることが可能なので、結果の共有にも便利です。"
      ]
    },
    {
      "cell_type": "markdown",
      "id": "93ae215c-e522-4995-8bc6-0a2560376c6f",
      "metadata": {
        "id": "93ae215c-e522-4995-8bc6-0a2560376c6f"
      },
      "source": [
        "```Python\n",
        "AMD_Tools4.PutGSI_Map(data, lat, lon, label=None, cmapstr=None,\n",
        "                      minmax=None, filename=\"result\", outdir=\".\")\n",
        "```\n",
        "引数(必須)：<br>\n",
        "* **data**：分布を表示させる２次元配列\n",
        "* **lat**：緯度の１次元配列\n",
        "* **lon**：経度の１次元配列\n",
        "\n",
        "引数(必要なときだけ使用)：<br>\n",
        "* **label**：凡例のタイトルの文字列\n",
        "* **cmapstr**：カラーマップを指定（詳細は後述）\n",
        "* **minmax**：カラースケールを指定（[min,max]のリスト）\n",
        "* **filename**：出力ファイル名\n",
        "* **outdir**：出力フォルダ名\n",
        "\n",
        "カラーマップについて：<br>\n",
        "　カラーマップには名称があるのでこれを文字列で(\"で囲んで)指定します。カラーサンプルは下記URLを参照のこと。<br>\n",
        "https://matplotlib.org/2.0.2/examples/color/colormaps_reference.html<br>\n",
        "　なお、色の順序を反転させたい場合は、\"rainbow_r\" のよう名称の後ろに\"_r\"を付加します。\n",
        "\n",
        "注意：<br>\n",
        "　この関数は、numpy.datetime64[D]型(日時を表現するための数値)の配列も表示することができるので、日付の分布図を描画できます。但し、等値色の塗り方はメッシュ単位ではなく、メッシュ中心点の値を等高線で結ぶような描画になります。<br>\n",
        "　また、オプション引数minmaxで配色の下限と上限を日付で指定する場合は、下記のようにして日付値を指定してください(datetimeオブジェクトで指定すると誤作動します)。<br>\n",
        "```Python\n",
        "    minmax = [np.datetime64('2018-08-25','D'),np.datetime64('2018-09-05','D')]\n",
        "```"
      ]
    },
    {
      "cell_type": "markdown",
      "id": "4915b662-b3a3-47ae-b47c-da04a2a96d5c",
      "metadata": {
        "jp-MarkdownHeadingCollapsed": true,
        "id": "4915b662-b3a3-47ae-b47c-da04a2a96d5c"
      },
      "source": [
        "## 8 時別データの取得\n",
        "メッシュ農業気象データでは時別値も公開しています。<br>\n",
        "現在利用可能な気象要素は、気温（TMP）、相対湿度（RH）、下向き長波放射（DLR）の３種類です。平年値の節でも紹介したリンクに、時別値データの搭載期間について説明があるので参照してください。\n",
        "\n",
        "https://amu.rd.naro.go.jp/wiki_open/doku.php?id=about#多彩な気象要素が用意されています"
      ]
    },
    {
      "cell_type": "markdown",
      "id": "58321cfa-ad87-4ca9-a6e3-4b78f635f7c5",
      "metadata": {
        "id": "58321cfa-ad87-4ca9-a6e3-4b78f635f7c5"
      },
      "source": [
        "　時別値の取得には **GetMetDataHourly** 関数を使います。日別データの取得関数とほぼ同じ要領で使用できます。<br>\n",
        "**GetMetDataHourly** 関数では、\n",
        "- 取得する日時の範囲指定には、['2023-01-25T03, '2023-01-25T21'] のように **日付の後にTを付けて、時を２桁で記入**します。\n",
        "- 時刻は 1時を示す **T01** から **T24** まで、一桁の場合はゼロで埋めた二桁の数値で指定します。\n",
        "- 取得する時間の範囲に日付だけにすることも可能です。この場合、期間の最初の日の01時から、期間の最終日の24時までを取得します。\n"
      ]
    },
    {
      "cell_type": "markdown",
      "id": "88d0864c-a249-442b-8272-12222da62d1b",
      "metadata": {
        "id": "88d0864c-a249-442b-8272-12222da62d1b"
      },
      "source": [
        "#### 例\n",
        "　室戸岬の最突端の時別気温を2016年6月について取得し折れ線グラフにします。"
      ]
    },
    {
      "cell_type": "code",
      "execution_count": null,
      "id": "312c3a5b-512e-4240-9e6e-b3e6d85563b6",
      "metadata": {
        "tags": [],
        "id": "312c3a5b-512e-4240-9e6e-b3e6d85563b6"
      },
      "outputs": [],
      "source": [
        "# 基本的な設定\n",
        "nani = 'TMP'  # '気温' を指定\n",
        "itsu = ['2016-06-01T01', '2016-06-30T24'] # 期間を指定。時刻まで指定したい場合は日付の後に T01-T24 を付ける。\n",
        "doko = [ 33.3375, 33.3375,  132.00626, 132.00626 ]\n",
        "\n",
        "# 気象データの取得\n",
        "data, timh, lat, lon, nam, uni = amd.GetMetDataHourly(nani, itsu, doko, namuni=True)"
      ]
    },
    {
      "cell_type": "markdown",
      "id": "b4e25a5c-a6ef-41df-83c5-d61bcd0ce1bf",
      "metadata": {
        "id": "b4e25a5c-a6ef-41df-83c5-d61bcd0ce1bf"
      },
      "source": [
        "　上のスクリプトを実行し、「TMP (721, 1, 1)」と表示されたらデータは正常に取得されています。以下でデータのサイズも確認してください。"
      ]
    },
    {
      "cell_type": "code",
      "execution_count": null,
      "id": "43f71bb9-65da-4bf9-a8d2-3c57b222d2ae",
      "metadata": {
        "id": "43f71bb9-65da-4bf9-a8d2-3c57b222d2ae"
      },
      "outputs": [],
      "source": [
        "data.shape"
      ]
    },
    {
      "cell_type": "code",
      "execution_count": null,
      "id": "90564c33-ee4c-44f4-87cd-a10b89d4e1e4",
      "metadata": {
        "tags": [],
        "id": "90564c33-ee4c-44f4-87cd-a10b89d4e1e4"
      },
      "outputs": [],
      "source": [
        "Th = data[:,0,0]\n",
        "lat_sc = lat[0]\n",
        "lon_sc = lon[0]\n",
        "\n",
        "amd.linefig(timh,Th,\n",
        "         title=f'latitude={lat_sc:.4f}, longitude={lon_sc:.4f}',\n",
        "         ylabel=f'{nam} [{uni}]')"
      ]
    },
    {
      "cell_type": "markdown",
      "id": "53b5df89-ae2a-48fd-9a1b-8ad93c95cd4c",
      "metadata": {
        "jp-MarkdownHeadingCollapsed": true,
        "id": "53b5df89-ae2a-48fd-9a1b-8ad93c95cd4c"
      },
      "source": [
        "## 9 温暖化シナリオデータの取得\n",
        "メッシュ農業気象データでは全球気候モデルを用いた温暖化シナリオデータ(日別値)も３次メッシュで公開しています。<br>\n",
        "利用可能な全球気候モデル、温暖化シナリオ、予測期間については、以下で確認してください。<br>\n",
        "https://amu.rd.naro.go.jp/wiki_open/doku.php?id=scenalio"
      ]
    },
    {
      "cell_type": "markdown",
      "id": "174971ce-3c2a-406f-a74f-8a504abbecb6",
      "metadata": {
        "id": "174971ce-3c2a-406f-a74f-8a504abbecb6"
      },
      "source": [
        "　シナリオデータの取得には **GetSceData** 関数を使います。モデルとシナリオを引数で指定する必要がありますが、それ以外は通常の日別データの取得関数と同じです。なお、温暖化シナリオデータには、平年値はありません。"
      ]
    },
    {
      "cell_type": "markdown",
      "id": "1f099d0f-6ab4-470a-938d-4db8a26fecc5",
      "metadata": {
        "id": "1f099d0f-6ab4-470a-938d-4db8a26fecc5"
      },
      "source": [
        "```Python\n",
        "AMD_Tools4.GetSceData(nani, itsu, doko, model, scenam,\n",
        "                      namuni=False, url='https://amd.rd.naro.go.jp/opendap/AMS')\n",
        "```\n",
        "引数(必須)：<br>\n",
        "* **nani**： 気象要素記号で、'TMP_mea'などの文字列で与える\n",
        "* **itsu**： 取得するデータの時間範囲で、['2080-05-01', '2080-05-31'] のように文字列の2要素リストで与える。特定の日のデータを取得するときは二カ所に同じ日付を与える。\n",
        "* **doko**： 取得するデータの緯度と経度の範囲で、[36.0, 40.0, 130.0, 135.0] のように緯度経度の順で範囲の最小値と最大値を指定する。特定メッシュのデータを取得するときは、それぞれの最小値と最大値に同じ値を与える。\n",
        "* **model**：気候モデルの記号で、'MIROC5'などの文字列で与える\n",
        "* **scenam**：排出シナリオ等の記号で、'RCP8.5'などの文字列で与える\n",
        "  \n",
        "引数(必要なときだけ使用)：<br>\n",
        "* **namuni**: namuni=True とすると、関数の戻り値に、気象要素の正式名称と単位が追加される。\n",
        "* **url**: 気象データを取り出す場所を指定する。省略した場合は**農研機構のデータ配信サーバー** からデータを取得する。\n",
        "\n",
        "戻り値：<br>\n",
        "* **第1戻り値**： 指定した気象要素の３次元(時刻、緯度、経度) 配列。範囲の指定の仕方にかかわらず常に３次元となる。\n",
        "* **第2戻り値**： 切り出した気象データの緯度の１次元配列。値は浮動小数。\n",
        "* **第3戻り値**： 切り出した気象データの経度の１次元配列。値は浮動小数。\n",
        "* **第4戻り値**(引数に namuni=True を加えたときのみ)： 気象要素の正式名。文字列。\n",
        "* **第5戻り値**(引数に namuni=True を加えたときのみ)： 気象要素の単位。文字列。"
      ]
    },
    {
      "cell_type": "markdown",
      "id": "409d1177-010c-4638-872c-c3e89bc5ca8e",
      "metadata": {
        "id": "409d1177-010c-4638-872c-c3e89bc5ca8e"
      },
      "source": [
        "#### 例\n",
        "　全球気候モデル **MIROC5** と、シナリオ **RCP8.5** で予測された茨城県つくば市内（舘野）における2100年の日最高気温のグラフを描く。"
      ]
    },
    {
      "cell_type": "code",
      "execution_count": null,
      "id": "3eea5e71-8e2d-40f4-a953-655d6b35afa8",
      "metadata": {
        "tags": [],
        "id": "3eea5e71-8e2d-40f4-a953-655d6b35afa8"
      },
      "outputs": [],
      "source": [
        "# 気象データの取得\n",
        "model = 'MIROC5'\n",
        "scenario = 'RCP8.5'\n",
        "nani = 'TMP_max'\n",
        "doko = [ 36.0567, 36.0567, 140.1250, 140.1250 ]  #舘野\n",
        "\n",
        "# 現在の平年値(平年値2020)の取得\n",
        "itsu = ['2021-01-01', '2021-12-31']\n",
        "data, tim, lat, lon = amd.GetMetData(nani, itsu, doko, cli=True)\n",
        "Tmax = data[:,0,0]\n",
        "\n",
        "# シナリオデータの取得\n",
        "itsu = ['2100-01-01', '2100-12-31']\n",
        "data, tim, lat, lon, nam, uni = amd.GetSceData(nani, itsu, doko, model, scenario, namuni=True)\n",
        "Tsmax = data[:,0,0]\n",
        "\n",
        "# 折れ線グラフ\n",
        "amd.linefig(tim, Tsmax,\n",
        "      title=f'N{lat[0]:.4f}, E{lon[0]:.4f}',\n",
        "      ylabel=f'{nam}  [{uni}]',\n",
        "      llabel=f'{scenario}, {model}',\n",
        "      ref=Tmax,\n",
        "      llabelref='Current Normal Value')"
      ]
    }
  ],
  "metadata": {
    "kernelspec": {
      "display_name": "Python 3 (ipykernel)",
      "language": "python",
      "name": "python3"
    },
    "language_info": {
      "codemirror_mode": {
        "name": "ipython",
        "version": 3
      },
      "file_extension": ".py",
      "mimetype": "text/x-python",
      "name": "python",
      "nbconvert_exporter": "python",
      "pygments_lexer": "ipython3",
      "version": "3.10.13"
    },
    "colab": {
      "provenance": [],
      "include_colab_link": true
    }
  },
  "nbformat": 4,
  "nbformat_minor": 5
}