{
  "cells": [
    {
      "cell_type": "markdown",
      "metadata": {
        "id": "view-in-github",
        "colab_type": "text"
      },
      "source": [
        "<a href=\"https://colab.research.google.com/github/1900690/Agro-Meteorological-Grid-Square-Data/blob/main/%E5%8F%82%E8%80%83/5_%E5%9C%B0%E7%90%86%E6%83%85%E5%A0%B1%E3%81%AE%E5%88%A9%E7%94%A8.ipynb\" target=\"_parent\"><img src=\"https://colab.research.google.com/assets/colab-badge.svg\" alt=\"Open In Colab\"/></a>"
      ]
    },
    {
      "cell_type": "markdown",
      "id": "d39e15c8-f305-40d8-b52b-a7efdb62cd6a",
      "metadata": {
        "id": "d39e15c8-f305-40d8-b52b-a7efdb62cd6a"
      },
      "source": [
        "農研機構メッシュ農業気象データシステム(AMGSDS) 　ドキュメント<br>\n",
        "チュートリアル　５ 地理情報の利用"
      ]
    },
    {
      "cell_type": "markdown",
      "id": "2209bde5-0f0a-4552-bfee-c593f8c3d29d",
      "metadata": {
        "id": "2209bde5-0f0a-4552-bfee-c593f8c3d29d"
      },
      "source": [
        "# 地理情報の利用\n",
        "　このチュートリアルでは、メッシュ農業気象データシステムで利用できる地理情報と、その利用法について学習します。\n",
        "\n",
        "　まず、以下のセルを実行し、このチュートリアルで使用するライブラリを読み込んでください。<br>\n",
        "（実行後は、左端の青太線をクリックして畳んでおいてください）\n",
        "* 図で日本語を使用したい場合は、**AMD_Tools4.pyの89-90行目**のコメントアウトを外して有効にしてください。その際、コメントをよく読みOSの違いにご注意ください。"
      ]
    },
    {
      "cell_type": "code",
      "execution_count": null,
      "id": "88175b6e-c4c1-493b-987e-5190da3723ab",
      "metadata": {
        "jupyter": {
          "source_hidden": true
        },
        "scrolled": true,
        "id": "88175b6e-c4c1-493b-987e-5190da3723ab"
      },
      "outputs": [],
      "source": [
        "# このチュートリアルで使用するライブラリ\n",
        "# ライブラリ（メッシュデータ処理のために必要）\n",
        "import numpy as np\n",
        "import AMD_Tools4 as amd"
      ]
    },
    {
      "cell_type": "markdown",
      "id": "48f917f0-1944-48af-9a39-55754770206b",
      "metadata": {
        "jp-MarkdownHeadingCollapsed": true,
        "id": "48f917f0-1944-48af-9a39-55754770206b"
      },
      "source": [
        "## 1 関数 GetGeoData\n",
        "　メッシュ農業気象データシステムからは、気象データと組み合わせて利用することを想定した、数種類の地理情報が提供されています。これらは、ライブラリ AMD_Tools4 に収録される関数 GetGeoData で取得します。"
      ]
    },
    {
      "cell_type": "markdown",
      "id": "1f063de2-ab06-4bdc-be58-05e86f0c0432",
      "metadata": {
        "id": "1f063de2-ab06-4bdc-be58-05e86f0c0432"
      },
      "source": [
        "```Python\n",
        "AMD_Tools4.GetGeoData(nani, doko, namuni=False, url='https://amd.rd.naro.go.jp/opendap/AMD/')\n",
        "```\n",
        "引数(必須)：<br>\n",
        "* **nani**： 地理情報の記号で、'altitude'などの文字列で与える\n",
        "* **doko**： 取得するデータの緯度と経度の範囲で、[36.0, 40.0, 130.0, 135.0] のように緯度経度の順で範囲の最小値と最大値を指定する。特定メッシュのデータを取得するときは、それぞれの最小値と最大値に同じ値を与える。\n",
        "  \n",
        "引数(必要なときだけ使用)：<br>\n",
        "* **namuni**: namuni=True とすると、関数の戻り値に、地理情報の正式名称と単位が追加される。\n",
        "* **url**: 気象データを取り出す場所を指定する。省略した場合は**農研機構のデータ配信サーバー** からデータを取得する。\n",
        "\n",
        "戻り値：<br>\n",
        "* **第1戻り値**： 指定した地理情報の２次元配列。（緯度、経度）の次元を持つ。範囲の指定の仕方にかかわらず常に２次元となる。\n",
        "* **第2戻り値**： 切り出した地理情報の緯度の１次元配列。値は浮動小数。\n",
        "* **第3戻り値**： 切り出した地理情報の経度の１次元配列。値は浮動小数。\n",
        "* **第4戻り値**(引数に namuni=True を加えたときのみ)： 地理情報の正式名。文字列。\n",
        "* **第5戻り値**(引数に namuni=True を加えたときのみ)： 地理情報の単位。文字列。"
      ]
    },
    {
      "cell_type": "markdown",
      "id": "8e347dbd-39f3-4d16-b95f-035406d3bae8",
      "metadata": {
        "jp-MarkdownHeadingCollapsed": true,
        "id": "8e347dbd-39f3-4d16-b95f-035406d3bae8"
      },
      "source": [
        "#### 使用する際には、ライブラリ **AMD_Tools4** をあらかじめインポートしておきます。"
      ]
    },
    {
      "cell_type": "markdown",
      "id": "83b17733-f392-4a2f-9b33-9260466ad910",
      "metadata": {
        "jp-MarkdownHeadingCollapsed": true,
        "id": "83b17733-f392-4a2f-9b33-9260466ad910"
      },
      "source": [
        "## 2 データの取得\n",
        "　高知県の室戸岬先端周辺の、下図に示す 30 メッシュの領域の地理情報を実際に取得してみましょう。メッシュの平均標高を取得します。"
      ]
    },
    {
      "cell_type": "markdown",
      "id": "d9e90d6f-ccf3-4127-a4cc-8c8f36d71084",
      "metadata": {
        "id": "d9e90d6f-ccf3-4127-a4cc-8c8f36d71084"
      },
      "source": [
        "　第１引数に与える地理情報の記号は、平均標高に対して **altitude** です。なお、提供されている地理情報とその記号は、下記リンクで確認することができます。<br>\n",
        "https://amu.rd.naro.go.jp/wiki_open/doku.php?id=geodata\n",
        "\n",
        "　関数 **GetGeoData** は、第２引数で指定した領域に少しでも掛かれば、そのメッシュのデータも取得する仕様なので、範囲指定の際、メッシュ範囲外縁の緯度経度を与えると、数値の丸めの関係から、余分な３次メッシュが取得されることがあります。これを避けたい場合は、外縁ではなくメッシュの中心点の緯度経度座標を与えるとよいでしょう。このやり方では、第３引数に与えるリストは **[33.2375, 33.2792, 134.1437, 134.1938]** となります。"
      ]
    },
    {
      "cell_type": "code",
      "execution_count": null,
      "id": "69635af9-c9db-45bf-8eb4-6c86fdb72a2e",
      "metadata": {
        "id": "69635af9-c9db-45bf-8eb4-6c86fdb72a2e"
      },
      "outputs": [],
      "source": [
        "# 変数に取得条件を設定\n",
        "nani = 'altitude'                              # 地理情報の指定　altitudeは３次メッシュの平均標高\n",
        "doko = [33.2375, 33.2792, 134.1437, 134.1938]  # 領域の設定\n",
        "\n",
        "# 設定に基づき地理情報を取得\n",
        "data, lat, lon, nam, uni = amd.GetGeoData(nani, doko, namuni=True)\n"
      ]
    },
    {
      "cell_type": "markdown",
      "id": "a3a8238d-0e35-45de-8f65-fca495daae64",
      "metadata": {
        "id": "a3a8238d-0e35-45de-8f65-fca495daae64"
      },
      "source": [
        "　上のスクリプトを実行し、「altitude (6, 5)」と表示されたらデータは正常に取得されています。この表示は、標高（altitude）のデータが、緯度方向に6データ、経度方向に5データのサイズで取得されたことを示しています。\n",
        "\n",
        "　関数 GetGeoData は、オプションのキーワード引数 ```namuni=True``` とともに用いると関数の左辺にある5つの変数に、**データ本体**、**緯度**、**経度**、**名称** 、**単位**  をこの順に代入します。いずれも、２次元のまたは１次元の **Numpy.ndarray** オブジェクトです。したがって、これらの配列から特定のデータを得る方法は気象データと同じです。\n",
        "\n",
        "　それぞれの中身を表示させます。"
      ]
    },
    {
      "cell_type": "code",
      "execution_count": null,
      "id": "e1f9b0aa-8297-40ac-90e4-cbfe6eeb9f40",
      "metadata": {
        "id": "e1f9b0aa-8297-40ac-90e4-cbfe6eeb9f40"
      },
      "outputs": [],
      "source": [
        "print(data)\n",
        "print(lat)\n",
        "print(lon)\n",
        "print(nam)\n",
        "print(uni)"
      ]
    },
    {
      "cell_type": "markdown",
      "id": "ff2c221b-d357-491d-a93b-4a9cf1e704a5",
      "metadata": {
        "jp-MarkdownHeadingCollapsed": true,
        "id": "ff2c221b-d357-491d-a93b-4a9cf1e704a5"
      },
      "source": [
        "## 3 地理情報によるメッシュデータのマスク\n",
        "　GetMetData関数等は、取得する気象データの範囲を緯度経度でしか指定できませんが、地理情報を使うと、特定の都道府県だけや、特定の土地利用だけの気象分布などを得ることができます。"
      ]
    },
    {
      "cell_type": "markdown",
      "id": "0658cfe4-0ab4-491d-8dcc-e041def9851f",
      "metadata": {
        "id": "0658cfe4-0ab4-491d-8dcc-e041def9851f"
      },
      "source": [
        "#### 例１\n",
        "　2023年7月23日における青森県の日最高気温分布を得る。"
      ]
    },
    {
      "cell_type": "markdown",
      "id": "d4fb9be1-dd56-4604-bfa8-ab034ba951db",
      "metadata": {
        "id": "d4fb9be1-dd56-4604-bfa8-ab034ba951db"
      },
      "source": [
        "　まず、青森県が完全に納まる範囲の日最高気温データを取得しましょう。以下を実行して、データの取得、図化をしてください。"
      ]
    },
    {
      "cell_type": "code",
      "execution_count": null,
      "id": "39bfd1de-f8f2-42f4-bb9d-152ed4a1e5db",
      "metadata": {
        "id": "39bfd1de-f8f2-42f4-bb9d-152ed4a1e5db"
      },
      "outputs": [],
      "source": [
        "# 変数に取得条件を設定\n",
        "nani = 'TMP_max'\n",
        "itsu = ['2023-07-23','2023-07-23']\n",
        "doko = [40.217, 41.558, 139.490, 141.685]  # 青森県がすっぽり入る領域を選ぶ\n",
        "\n",
        "# 設定に基づき気象データを取得\n",
        "data, tim, lat, lon = amd.GetMetData(nani, itsu, doko)\n",
        "Ta = data[0,:,:]\n",
        "\n",
        "# 図化\n",
        "amd.mapfig(Ta, lat, lon)"
      ]
    },
    {
      "cell_type": "markdown",
      "id": "99853959-78ee-43b4-8572-4c78a804f07d",
      "metadata": {
        "id": "99853959-78ee-43b4-8572-4c78a804f07d"
      },
      "source": [
        "　次に、以下を実行して、青森県が完全に納まる範囲の県域を示す地理情報を取得し、図化してください。"
      ]
    },
    {
      "cell_type": "code",
      "execution_count": null,
      "id": "028faf56-6dcb-4b6d-aa2c-f3120febb258",
      "metadata": {
        "id": "028faf56-6dcb-4b6d-aa2c-f3120febb258"
      },
      "outputs": [],
      "source": [
        "# 設定に基づき地理情報を取得\n",
        "prf, lat, lon = amd.GetGeoData('pref_0200', doko) # doko は上のスクリプトで定義済み\n",
        "\n",
        "# 図化\n",
        "amd.mapfig(prf, lat, lon)"
      ]
    },
    {
      "cell_type": "markdown",
      "id": "5020793c-8927-49bc-ad1a-0a674d370ec1",
      "metadata": {
        "id": "5020793c-8927-49bc-ad1a-0a674d370ec1"
      },
      "source": [
        "　地理情報 **pref_0200** は、青森県に含まれるメッシュには１、それ以外のメッシュには無効値が与えられている地理情報です。ごく一部でも県域がかかっていればそのメッシュには１が与えられています。\n",
        "\n",
        "　Numpyの決まりで、何かの数値に無効値を掛け算するとその結果は無効値になります。このため、気象データ **Ta** に地理情報 **prf** を乗じると、青森県域外のデータは全て無効値となり、結果として、青森県域だけの気象データを作ることができます。"
      ]
    },
    {
      "cell_type": "code",
      "execution_count": null,
      "id": "1e7b3d9e-db51-4b06-9366-80b6fccf6fe0",
      "metadata": {
        "id": "1e7b3d9e-db51-4b06-9366-80b6fccf6fe0"
      },
      "outputs": [],
      "source": [
        "# 気象データを県域データでマスク\n",
        "TaA = Ta * prf\n",
        "\n",
        "# 図化\n",
        "amd.mapfig(TaA, lat, lon)"
      ]
    },
    {
      "cell_type": "markdown",
      "id": "6077a54d-d3e6-4851-8bac-132761bd6f47",
      "metadata": {
        "id": "6077a54d-d3e6-4851-8bac-132761bd6f47"
      },
      "source": [
        "　個々の都道府県、総合振興局がちょうど納まる緯度経度範囲については、下記に一覧表が掲載されています。<br>\n",
        " https://amu.rd.naro.go.jp/wiki_open/doku.php?id=geodata#都道府県範囲"
      ]
    },
    {
      "cell_type": "markdown",
      "id": "48504185-0506-46d9-8bc5-d98521d922df",
      "metadata": {
        "id": "48504185-0506-46d9-8bc5-d98521d922df"
      },
      "source": [
        "#### 例２\n",
        "　青森県周辺域の田の分布を得る。"
      ]
    },
    {
      "cell_type": "markdown",
      "id": "02d6d4ba-e6c8-4213-98a6-b131bf628cc4",
      "metadata": {
        "id": "02d6d4ba-e6c8-4213-98a6-b131bf628cc4"
      },
      "source": [
        "　地理情報 **landuse_H210100** は、メッシュ内に含まれる田(湿田・乾田・沼田・蓮田)の割合を示す地理情報です。まずこれを図化してみましょう。以下を実行してください。"
      ]
    },
    {
      "cell_type": "code",
      "execution_count": null,
      "id": "4b49d2f0-6cb5-4361-bce8-9f99113e1d9e",
      "metadata": {
        "id": "4b49d2f0-6cb5-4361-bce8-9f99113e1d9e"
      },
      "outputs": [],
      "source": [
        "# 田分布率データの取得\n",
        "lu01, lat, lon, nam, uni = amd.GetGeoData('landuse_H210100', doko, namuni=True)\n",
        "\n",
        "# 図化\n",
        "amd.mapfig(lu01, lat, lon, figtitle=f'{nam}  [{uni}]')"
      ]
    },
    {
      "cell_type": "markdown",
      "id": "977b3029-c8dc-4bf5-8a44-59f4ca1af9ac",
      "metadata": {
        "id": "977b3029-c8dc-4bf5-8a44-59f4ca1af9ac"
      },
      "source": [
        "　田の分布は、**田の比率が０でない** メッシュを抽出すれば得ることができます。これには、ライブラリ **Numpy** が提供する関数 **where** を使用します。<br>\n",
        "　関数 **where** は、第１引数に配列の条件式を与え、それが満たされた場合の値を第２引数に、満たされない場合の値を第３引数に与えて使用します。これにより、どちらかの値が埋め込まれた新しい配列が条件式に使用したのと同じサイズで作成されます。今回の例では、以下のように使用することで、比率が０であれば無効値が、比率が０でなければ１である配列 **pad** を得ることができます。\n",
        "```Python\n",
        "pad = np.where(lu01>0, 1, np.nan)\n",
        "```\n",
        "　ここで、np.nanは、今まで「無効値」と説明してきたものです。ライブラリ Numpy に定義されている数値です。\n",
        "\n",
        "上の演算で、田の分布図が得られるか確認しましょう。以下を実行してください。"
      ]
    },
    {
      "cell_type": "code",
      "execution_count": null,
      "id": "e26872d3-81e9-4f57-bce8-3d796824e9ef",
      "metadata": {
        "id": "e26872d3-81e9-4f57-bce8-3d796824e9ef"
      },
      "outputs": [],
      "source": [
        "# 田の比率が０でないメッシュを抽出\n",
        "pad = np.where(lu01>0, 1, np.nan)\n",
        "\n",
        "# 図化\n",
        "amd.mapfig(pad, lat, lon)"
      ]
    },
    {
      "cell_type": "markdown",
      "id": "4b35c3e6-6443-44f4-9832-4f0f35569dbb",
      "metadata": {
        "id": "4b35c3e6-6443-44f4-9832-4f0f35569dbb"
      },
      "source": [
        "#### 例３\n",
        "青森県、かつ、田が存在するメッシュにおける2023年7月23日(大暑)の日最高気温分布を得る。"
      ]
    },
    {
      "cell_type": "code",
      "execution_count": null,
      "id": "922e203f-242d-41c8-bc3b-e3a6843aba0e",
      "metadata": {
        "id": "922e203f-242d-41c8-bc3b-e3a6843aba0e"
      },
      "outputs": [],
      "source": [
        "# 二つの条件の「かつ」で気象データにマスクを掛ける\n",
        "TaAp = Ta * prf * pad\n",
        "\n",
        "# 図化\n",
        "amd.mapfig(TaAp, lat, lon)"
      ]
    },
    {
      "cell_type": "markdown",
      "id": "6504302b-502c-4f40-a225-61c5c5853ad0",
      "metadata": {
        "id": "6504302b-502c-4f40-a225-61c5c5853ad0"
      },
      "source": [
        "#### 例４\n",
        "根釧地域のみ１の地理情報を作る。"
      ]
    },
    {
      "cell_type": "markdown",
      "id": "06475b5b-3ebf-4f39-8b3f-fbfbd90d3624",
      "metadata": {
        "id": "06475b5b-3ebf-4f39-8b3f-fbfbd90d3624"
      },
      "source": [
        "　例３でみたように、二つの地理条件の「**かつ**」は、地理条件を示す配列(満たせば１満たさなければ無効値)の掛け算で簡単に得られましたが、地理条件の和集合は足し算では得られず、関数 **where** を使用しなければなりません。<br>\n",
        "　釧路総合振興局の領域だけが１の配列を **kushiro**、根室総合振興局の領域だけが１の配列を  **nemuro** とすると、それらの「**または**」 **konsen** は以下のように得ます。\n",
        "```python\n",
        "konsen =  np.where((kushiro==1.0)|(nemuro==1.0), 1.0, np.nan)\n",
        "```\n",
        "この際、データを取得する領域は、釧路と根室の両方が入る領域に設定します。\n",
        "\n",
        "　この例では、以下のようになります。"
      ]
    },
    {
      "cell_type": "code",
      "execution_count": null,
      "id": "83e00d34-104f-4660-8348-870470fc7cfc",
      "metadata": {
        "id": "83e00d34-104f-4660-8348-870470fc7cfc"
      },
      "outputs": [],
      "source": [
        "# 変数に取得条件を設定\n",
        "doko = [42.842,  44.305, 143.702, 145.998]  # 根室と釧路の両方が入る領域を設定する\n",
        "\n",
        "# 領域データの取得\n",
        "kushiro, la, lo = amd.GetGeoData('pref_0113', doko)\n",
        "nemuro, la, lo = amd.GetGeoData('pref_0114', doko)\n",
        "\n",
        "# 和集合の領域データ\n",
        "konsen = np.where((kushiro==1.0)|(nemuro==1.0), 1.0, np.nan)\n",
        "\n",
        "# 分布図\n",
        "amd.mapfig(konsen, la, lo)"
      ]
    },
    {
      "cell_type": "markdown",
      "id": "35d455a2-034e-4d54-a61c-e2d96c5ab07e",
      "metadata": {
        "id": "35d455a2-034e-4d54-a61c-e2d96c5ab07e"
      },
      "source": [
        "##### **(!)** 重要\n",
        "　今回は配列の値と実数(1.0)との比較だったので、比較演算子「 **==** 」を使用しましたが、比較演算子は無効値には使用できない(無効値かどうかを比較演算子で調べることはできない)ので注意してください。無効値かどうかを調べるには、ライブラリ Numpy が提供する関数 **numpy.isnan** を使用します。"
      ]
    },
    {
      "cell_type": "code",
      "execution_count": null,
      "id": "f0206f57-86a3-4ce6-9939-7de71c0d23ac",
      "metadata": {
        "id": "f0206f57-86a3-4ce6-9939-7de71c0d23ac"
      },
      "outputs": [],
      "source": [
        "a = np.nan  # 変数aに無効値を代入\n",
        "a == np.nan  # a が無効値かどうかを知るために比較演算子を使うと・・・"
      ]
    },
    {
      "cell_type": "code",
      "execution_count": null,
      "id": "acc00933-6953-4248-b53b-0d30b2f31d20",
      "metadata": {
        "id": "acc00933-6953-4248-b53b-0d30b2f31d20"
      },
      "outputs": [],
      "source": [
        "np.isnan(a)  # 関数 isnan を使わなければなりません"
      ]
    },
    {
      "cell_type": "markdown",
      "id": "29bf5f26-56ec-41a2-95b4-4150bab3c07d",
      "metadata": {
        "id": "29bf5f26-56ec-41a2-95b4-4150bab3c07d"
      },
      "source": [
        "　特に、「無効値でないならば、」の時は、関数**np.isnan()** の先頭に、否定の演算子 *~* (チルダ)を付け、**\\~np.isnan()** として使用します。"
      ]
    },
    {
      "cell_type": "markdown",
      "id": "0fd56efd-dd0c-4178-8edc-66e5a6a8842c",
      "metadata": {
        "jp-MarkdownHeadingCollapsed": true,
        "id": "0fd56efd-dd0c-4178-8edc-66e5a6a8842c"
      },
      "source": [
        "## 4 地理情報等による処理対象メッシュの設定\n",
        "　地理情報等によりマスクを掛ける方法は、領域全体のデータがすでに揃っている場合に対しては大変有効ですが、収穫適期分布図など、個々のメッシュに対して一定の計算をした結果をマスクする場合は、計算結果をムダに捨てることになり非効率的です。また、捨てるメッシュでは、データがなくそもそも計算ができない場合もあります。<br>\n",
        "　このようなときは、計算対象とするメッシュのインデックスを予めリストアップし、それらだけに計算を行って結果を書き込むようにします。"
      ]
    },
    {
      "cell_type": "markdown",
      "id": "66cfe06c-a6f6-4402-90d7-45a4693f6507",
      "metadata": {
        "id": "66cfe06c-a6f6-4402-90d7-45a4693f6507"
      },
      "source": [
        "#### 例１\n",
        "　室戸岬の先端付近において、標高が100以上のメッシュのインデックスをリストアップする"
      ]
    },
    {
      "cell_type": "markdown",
      "id": "50fb39fa-c129-4c53-96a4-db354c3a154e",
      "metadata": {
        "id": "50fb39fa-c129-4c53-96a4-db354c3a154e"
      },
      "source": [
        "　処理対象のメッシュのインデックスをリストアップするするには、関数 **where** を、３章で示したのとは別な用法で用います。\n",
        "```Python\n",
        "条件を満たす配列のインデックス = np.where(配列の要素の条件式)\n",
        "```\n",
        "　この用法で、室戸岬の先端付近において、標高が100以上のメッシュのインデックスをリストアップしてみましょう。"
      ]
    },
    {
      "cell_type": "code",
      "execution_count": null,
      "id": "a50b2d5b-ad0f-4dea-8984-91b3e9672de2",
      "metadata": {
        "id": "a50b2d5b-ad0f-4dea-8984-91b3e9672de2"
      },
      "outputs": [],
      "source": [
        "# 変数に取得条件を設定\n",
        "nani = 'altitude'                              # 地理情報の指定　altitudeは３次メッシュの平均標高\n",
        "doko = [33.2375, 33.2792, 134.1437, 134.1938]  # 領域の設定\n",
        "\n",
        "# 設定に基づき地理情報を取得\n",
        "alt, lat, lon = amd.GetGeoData(nani, doko)\n",
        "\n",
        "# 条件を満たすインデックスをリストアップ\n",
        "y,x = np.where( alt>=100.0) # 気象データがあれば１なければ無効値の配列\n",
        "\n",
        "print(alt)\n",
        "print(len(y))\n",
        "print(y)\n",
        "print(x)"
      ]
    },
    {
      "cell_type": "markdown",
      "id": "fbf2d178-5582-4088-88b1-021d72609ec7",
      "metadata": {
        "id": "fbf2d178-5582-4088-88b1-021d72609ec7"
      },
      "source": [
        "　関数 where から返される **y** と **x** の値をひとつづつ抜き出して、インデックスとしたときの配列要素、この場合では、[2,3], [3,3], [4,2], [4,3], [5,2], [5,3] が条件を満たすメッシュのインデックスです。全部で６個存在します。\n",
        "\n",
        "　では、得られたインデックスを用いて、標高が100 m 以上であれば100、未満であれば、無効値である新しいメッシュデータを作成してみましょう。<br>\n",
        "　そのためには、まず、結果を格納する新しい配列を用意する必要があります。この方法はいくつかあます。正攻法では、サイズが同じで値が無効値である配列をライブラリ Numpy の関数で作る方法です。それには以下のようにします。\n",
        "```Python\n",
        "a100 = np.full(alt.shape,np.nan)\n",
        "```\n",
        "　手抜きですが、サイズが同じ配列を探してきて、それに無効値を掛けてしまう方法もあります。\n",
        "```Python\n",
        "a100 = alt * np.nan\n",
        "```\n",
        "　ndarray オブジェクトは、スカラーと演算をすることができ、その場合、個々の配列要素とスカラーが演算されてその結果を要素とする新しいオブジェクトが作られます。上の方法はそれを利用しています。"
      ]
    },
    {
      "cell_type": "code",
      "execution_count": null,
      "id": "65243154-0667-457a-93c8-d0dc8090ac14",
      "metadata": {
        "id": "65243154-0667-457a-93c8-d0dc8090ac14"
      },
      "outputs": [],
      "source": [
        "a100 = np.full(alt.shape,np.nan)\n",
        "a100"
      ]
    },
    {
      "cell_type": "markdown",
      "id": "847c5c4e-da16-47dc-89c4-38f9e16d9470",
      "metadata": {
        "id": "847c5c4e-da16-47dc-89c4-38f9e16d9470"
      },
      "source": [
        "　次に、リストアップされたインデックスの配列要素に値 100 を順次代入します。それにはfor文を以下のように使用します。"
      ]
    },
    {
      "cell_type": "code",
      "execution_count": null,
      "id": "135e4224-d17c-43d2-abee-1822868ac4e5",
      "metadata": {
        "id": "135e4224-d17c-43d2-abee-1822868ac4e5"
      },
      "outputs": [],
      "source": [
        "for Y,X in zip(y,x):\n",
        "    a100[Y,X] = 100\n",
        "\n",
        "print(a100)"
      ]
    },
    {
      "cell_type": "markdown",
      "id": "91826b55-e6e1-4a6c-84c1-c64903562d9a",
      "metadata": {
        "id": "91826b55-e6e1-4a6c-84c1-c64903562d9a"
      },
      "source": [
        " この例では、単に100を代入しただけですが、for文の中に、演算を定義すれば、リストアップされた配列要素に対してだけその演算が実行され結果が書き込まれます。"
      ]
    },
    {
      "cell_type": "markdown",
      "id": "84532430-308e-4b3c-aead-8ab5a8c87ee8",
      "metadata": {
        "id": "84532430-308e-4b3c-aead-8ab5a8c87ee8"
      },
      "source": [
        "#### 例２　青森県の田における2023年7月23日の日最高気温分布を得る"
      ]
    },
    {
      "cell_type": "markdown",
      "id": "a9b777c2-443b-4693-8c5e-a3396bb4b545",
      "metadata": {
        "id": "a9b777c2-443b-4693-8c5e-a3396bb4b545"
      },
      "source": [
        "　インデックスのリストアップとそれに基づく処理の方法が分かったところで、_３章 例３_ と同じ結果をこの方法で得てみましょう。それは以下のようになります。"
      ]
    },
    {
      "cell_type": "code",
      "execution_count": null,
      "id": "3e5266b7-b423-4b52-b05e-ad101d9f67a3",
      "metadata": {
        "id": "3e5266b7-b423-4b52-b05e-ad101d9f67a3"
      },
      "outputs": [],
      "source": [
        "itsu = ['2023-07-23','2023-07-23']  # 気象データの期間\n",
        "doko = [40.217, 41.558, 139.490, 141.685]  # 青森県がすっぽり入る領域を選ぶ\n",
        "\n",
        "data, tim, lat, lon = amd.GetMetData('TMP_max', itsu, doko)  # 気象データ\n",
        "Ta = data[0,:,:]\n",
        "met = np.where(~np.isnan(Ta), 1, np.nan)  # 気象データの有無\n",
        "prf, lat, lon = amd.GetGeoData('pref_0200', doko)  # 県域\n",
        "lu01, lat, lon = amd.GetGeoData('landuse_H210100', doko)  # 田分布率データ\n",
        "pad = np.where(lu01>0, 1, np.nan)  # 田の有無\n",
        "\n",
        "TaAp = np.full(Ta.shape,np.nan)  # 演算結果を格納する配列\n",
        "\n",
        "y,x = np.where(met*prf*pad == 1)  # 処理対象のインデックスのリストアップ\n",
        "for Y,X in zip(y,x):\n",
        "    TaAp[Y,X] = Ta[Y,X]  # 気象データの代入\n",
        "\n",
        "amd.mapfig(TaAp,lat,lon)"
      ]
    },
    {
      "cell_type": "markdown",
      "id": "959d985d-a79d-43b0-8468-9088a91061d2",
      "metadata": {
        "id": "959d985d-a79d-43b0-8468-9088a91061d2"
      },
      "source": [
        "　「 _3 地理情報によるメッシュデータのマスク　例３_ 」と同じ結果が得られました。\n",
        "\n",
        "##### 注意\n",
        "　上のスクリプトでは、6行目で「気象データが存在すればそのメッシュには１、それ以外は無効値」という配列 **met** を作り、それもリストアップ条件に使用しました。処理対象のインデックスをリストアップする方法においては、これは必ずするようにしてください。<br>\n",
        "　気象データを作る/作らないは気象庁が作成した基礎データに基づいて決定している一方、土地利用データ等地理情報は総務省の基礎データに基づいて作成しているため、「ここは海である」等の判断がすべてのメッシュに対して整合しているわけではないからです。この食い違いにより、ごくまれに、地理情報としては計算対象だが、そこの気象データは存在しないという状況が発生します。気象データの存在もリストアップの条件に入れることで、そのような状況で発生するエラーを防ぐことができます。"
      ]
    },
    {
      "cell_type": "code",
      "execution_count": null,
      "id": "81ba6b3c-be0b-4252-a4df-8af727f83025",
      "metadata": {
        "id": "81ba6b3c-be0b-4252-a4df-8af727f83025"
      },
      "outputs": [],
      "source": []
    }
  ],
  "metadata": {
    "kernelspec": {
      "display_name": "Python 3 (ipykernel)",
      "language": "python",
      "name": "python3"
    },
    "language_info": {
      "codemirror_mode": {
        "name": "ipython",
        "version": 3
      },
      "file_extension": ".py",
      "mimetype": "text/x-python",
      "name": "python",
      "nbconvert_exporter": "python",
      "pygments_lexer": "ipython3",
      "version": "3.10.13"
    },
    "colab": {
      "provenance": [],
      "include_colab_link": true
    }
  },
  "nbformat": 4,
  "nbformat_minor": 5
}